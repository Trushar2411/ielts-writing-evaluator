{
 "cells": [
  {
   "cell_type": "code",
   "execution_count": 6,
   "id": "aa9cd73d",
   "metadata": {},
   "outputs": [
    {
     "name": "stdout",
     "output_type": "stream",
     "text": [
      "                                            Question\n",
      "0  Rich countries often give money to poorer coun...\n",
      "1  Rich countries often give money to poorer coun...\n",
      "2  Some countries achieve international sports by...\n",
      "3  Some countries achieve international sports by...\n",
      "4  Some countries achieve international sports by...\n"
     ]
    }
   ],
   "source": [
    "import pandas as pd\n",
    "\n",
    "# Load the dataset from the 'data' folder\n",
    "df = pd.read_csv(\"ielts_writing_dataset.csv\")\n",
    "\n",
    "# Filter rows where Task_Type == 2\n",
    "filtered_df = df[df[\"Task_Type\"] == 2].reset_index(drop=True)\n",
    "\n",
    "# Keep only the required columns\n",
    "filtered_df = filtered_df[[\"Question\"]]\n",
    "\n",
    "filtered_df.to_csv(\"question_dataset.csv\", index=False)\n",
    "\n",
    "# Display the first few rows (optional)\n",
    "print(filtered_df.head())\n"
   ]
  },
  {
   "cell_type": "code",
   "execution_count": 7,
   "id": "dd4a3006",
   "metadata": {},
   "outputs": [
    {
     "name": "stdout",
     "output_type": "stream",
     "text": [
      "Duplicates removed and saved to 'cleaned_ielts_questions.csv'\n"
     ]
    }
   ],
   "source": [
    "import pandas as pd\n",
    "\n",
    "# Step 1: Load your CSV file\n",
    "df = pd.read_csv(\"question_dataset.csv\")\n",
    "\n",
    "# Step 2: Drop duplicate questions\n",
    "df_cleaned = df.drop_duplicates(subset='Question', keep='first')\n",
    "\n",
    "# Step 4: Save the cleaned dataset\n",
    "df_cleaned.to_csv(\"cleaned_ielts_questions.csv\", index=False)\n",
    "\n",
    "print(\"Duplicates removed and saved to 'cleaned_ielts_questions.csv'\")\n"
   ]
  },
  {
   "cell_type": "code",
   "execution_count": 8,
   "id": "a06649d7",
   "metadata": {},
   "outputs": [
    {
     "name": "stdout",
     "output_type": "stream",
     "text": [
      "Text file saved as cleaned_ielts_questions.txt\n"
     ]
    }
   ],
   "source": [
    "import pandas as pd\n",
    "\n",
    "# Load the CSV\n",
    "df = pd.read_csv(\"cleaned_ielts_questions.csv\")\n",
    "\n",
    "# Save to a text file (one question per line)\n",
    "df['Question'].dropna().to_csv(\"cleaned_ielts_questions.txt\", index=False, header=False)\n",
    "\n",
    "print(\"Text file saved as cleaned_ielts_questions.txt\")\n"
   ]
  }
 ],
 "metadata": {
  "kernelspec": {
   "display_name": "Python 3",
   "language": "python",
   "name": "python3"
  },
  "language_info": {
   "codemirror_mode": {
    "name": "ipython",
    "version": 3
   },
   "file_extension": ".py",
   "mimetype": "text/x-python",
   "name": "python",
   "nbconvert_exporter": "python",
   "pygments_lexer": "ipython3",
   "version": "3.12.10"
  }
 },
 "nbformat": 4,
 "nbformat_minor": 5
}
