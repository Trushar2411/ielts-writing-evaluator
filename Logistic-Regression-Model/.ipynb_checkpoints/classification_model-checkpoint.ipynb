{
 "cells": [
  {
   "cell_type": "code",
   "execution_count": 12,
   "id": "e9bbf553-8151-4aeb-b484-aa4a3fca2b88",
   "metadata": {},
   "outputs": [],
   "source": [
    "import pandas as pd\n",
    "from sklearn.model_selection import train_test_split\n",
    "from sklearn.feature_extraction.text import TfidfVectorizer\n",
    "from sklearn.linear_model import LogisticRegression\n",
    "import matplotlib.pyplot as plt\n",
    "import seaborn as sns\n",
    "import numpy as np\n",
    "from sklearn.metrics import confusion_matrix, classification_report, accuracy_score\n",
    "\n",
    "data_path = \"../data/filter_dataset.csv\""
   ]
  },
  {
   "cell_type": "markdown",
   "id": "ff937c7a-bb62-4af2-afef-627ae6e8ce09",
   "metadata": {},
   "source": [
    "# Model"
   ]
  },
  {
   "cell_type": "code",
   "execution_count": 16,
   "id": "389d95b6-0c68-4c3c-b175-d318d76b8d7b",
   "metadata": {},
   "outputs": [],
   "source": [
    "class ClassificationModel:\n",
    "    def __init__(self, base_model, tf_idf_max_features, tf_idf_n_gram_range, data_path):\n",
    "        self.tf_idf_max_features = tf_idf_max_features\n",
    "        self.tf_idf_n_gram_range = tf_idf_n_gram_range\n",
    "        self.base_model = base_model\n",
    "        self.data_path = data_path\n",
    "        self.data_preprocessing()\n",
    "        self.tf_idf_vectorization()\n",
    "\n",
    "    @staticmethod\n",
    "    def map_score_to_band(score):\n",
    "        if score < 5.0:\n",
    "            return 0\n",
    "        elif score < 6.0:\n",
    "            return 1\n",
    "        elif score < 7.0:\n",
    "            return 2\n",
    "        elif score < 8.0:\n",
    "            return 3\n",
    "        else:\n",
    "            return 4\n",
    "            \n",
    "    def data_preprocessing(self):\n",
    "        # Load dataset\n",
    "        df = pd.read_csv(self.data_path)\n",
    "        df = df[['Question', 'Essay', 'Overall']].dropna()\n",
    "        \n",
    "        # Preprocess: Combine question and answer\n",
    "        df['Text'] = df['Question'] + \" \" + df['Essay']\n",
    "        \n",
    "        # Split data into features and target\n",
    "        self.X = df['Text']\n",
    "        self.y = df['Overall'].apply(ClassificationModel.map_score_to_band)\n",
    "        \n",
    "    def tf_idf_vectorization(self):\n",
    "        tfidf = TfidfVectorizer(max_features=self.tf_idf_max_features, ngram_range=self.tf_idf_n_gram_range)\n",
    "        X_tfidf = tfidf.fit_transform(self.X)\n",
    "        self.X_train, self.X_test, self.y_train, self.y_test = train_test_split(X_tfidf, self.y, test_size=0.2, random_state=42)\n",
    "\n",
    "    def train(self):    \n",
    "        self.model = self.base_model\n",
    "        self.model.fit(self.X_train, self.y_train)\n",
    "\n",
    "    def evaluate(self): \n",
    "        # Predict on test \n",
    "        preds = self.model.predict(self.X_test)\n",
    "\n",
    "        # Accuraccy\n",
    "        print(\"Classification Report:\\n\")\n",
    "        print(classification_report(self.y_test, preds, target_names=[\"<5\", \"5\", \"6\", \"7\", \"8+\"], zero_division=0))\n",
    "\n",
    "        print(f\"Accuracy: {accuracy_score(self.y_test, preds):.2f}\")\n",
    "\n",
    "        # Confusion Matrix\n",
    "        band_names = [\"<5\", \"5\", \"6\", \"7\", \"8+\"]\n",
    "        cm = confusion_matrix(self.y_test, preds)\n",
    "        \n",
    "        plt.figure(figsize=(6, 5))\n",
    "        sns.heatmap(cm, annot=True, fmt='d', cmap='Blues', xticklabels=band_names, yticklabels=band_names)\n",
    "        plt.xlabel('Predicted Band')\n",
    "        plt.ylabel('True Band')\n",
    "        plt.title('Confusion Matrix')\n",
    "        plt.show()"
   ]
  },
  {
   "cell_type": "markdown",
   "id": "26dc1dd7-7c00-47c1-b501-aeb1e0fb4dc5",
   "metadata": {},
   "source": [
    "# Test on different hyper-parameters"
   ]
  },
  {
   "cell_type": "code",
   "execution_count": 17,
   "id": "c8c93d5c-d6e5-47e3-9287-14ecd22af34f",
   "metadata": {},
   "outputs": [
    {
     "name": "stdout",
     "output_type": "stream",
     "text": [
      "Classification Report:\n",
      "\n",
      "              precision    recall  f1-score   support\n",
      "\n",
      "          <5       0.00      0.00      0.00         4\n",
      "           5       0.00      0.00      0.00        22\n",
      "           6       0.45      0.57      0.50        61\n",
      "           7       0.34      0.55      0.42        38\n",
      "          8+       0.95      0.53      0.68        34\n",
      "\n",
      "    accuracy                           0.47       159\n",
      "   macro avg       0.35      0.33      0.32       159\n",
      "weighted avg       0.46      0.47      0.44       159\n",
      "\n",
      "Accuracy: 0.47\n"
     ]
    },
    {
     "data": {
      "image/png": "[encoded data removed]",
      "text/plain": [
       "<Figure size 600x500 with 2 Axes>"
      ]
     },
     "metadata": {},
     "output_type": "display_data"
    }
   ],
   "source": [
    "logistic_regression_model = ClassificationModel(base_model=LogisticRegression(max_iter=1000),  tf_idf_max_features=5000,  tf_idf_n_gram_range=(1,3), data_path=data_path)\n",
    "logistic_regression_model.train()\n",
    "logistic_regression_model.evaluate()"
   ]
  },
  {
   "cell_type": "code",
   "execution_count": null,
   "id": "78f8b61a-8743-4807-8818-e0d820186b65",
   "metadata": {},
   "outputs": [],
   "source": []
  }
 ],
 "metadata": {
  "kernelspec": {
   "display_name": "Python 3 (ipykernel)",
   "language": "python",
   "name": "python3"
  },
  "language_info": {
   "codemirror_mode": {
    "name": "ipython",
    "version": 3
   },
   "file_extension": ".py",
   "mimetype": "text/x-python",
   "name": "python",
   "nbconvert_exporter": "python",
   "pygments_lexer": "ipython3",
   "version": "3.11.7"
  }
 },
 "nbformat": 4,
 "nbformat_minor": 5
}
